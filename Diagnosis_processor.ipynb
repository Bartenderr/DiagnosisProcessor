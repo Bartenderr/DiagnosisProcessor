{
  "nbformat": 4,
  "nbformat_minor": 0,
  "metadata": {
    "colab": {
      "provenance": [],
      "mount_file_id": "1je8Av4DlTKGDYxNnXPR-dmu3ZgFVKLsD",
      "authorship_tag": "ABX9TyMsOZjORZlCQTMwbWjXDZ81",
      "include_colab_link": true
    },
    "kernelspec": {
      "name": "python3",
      "display_name": "Python 3"
    },
    "language_info": {
      "name": "python"
    }
  },
  "cells": [
    {
      "cell_type": "markdown",
      "metadata": {
        "id": "view-in-github",
        "colab_type": "text"
      },
      "source": [
        "<a href=\"https://colab.research.google.com/github/Bartenderr/DiagnosisProcessor/blob/main/Diagnosis_processor.ipynb\" target=\"_parent\"><img src=\"https://colab.research.google.com/assets/colab-badge.svg\" alt=\"Open In Colab\"/></a>"
      ]
    },
    {
      "cell_type": "code",
      "execution_count": null,
      "metadata": {
        "colab": {
          "base_uri": "https://localhost:8080/"
        },
        "id": "nF_CznIxxKLS",
        "outputId": "df3fe973-9f7b-40f5-fe61-a616325b98a4"
      },
      "outputs": [
        {
          "output_type": "stream",
          "name": "stdout",
          "text": [
            "['\"Menorrhagia\"', '\"Menorhagia\"', '\"None\"', '\"None\"', '\"None\"', '\"Menorrhagia?\"', '\"Menorrhagia/\"', '\"Menorrhagia,\"', '\"?Menorrhagia\"', '\"/Menorrhagia\"', '\",Menorrhagia\"', '\"?Menorrhagia?\"', '\"/Menorrhagia/\"', '\",Menorrhagia,\"', '\"Menorhagia?\"', '\"Menorhagia/\"', '\"Menorhagia,\"', '\"?Menorhagia\"', '\"/Menorhagia\"', '\",Menorhagia\"', '\"?Menorhagia?\"', '\"/Menorhagia/\"', '\",Menorhagia,\"']\n"
          ]
        }
      ],
      "source": [
        "def process_diagnosis(diagnosis_1, diagnosis_2=None, diagnosis_3=None, diagnosis_4=None, diagnosis_5=None):\n",
        "    results = []\n",
        "\n",
        "    # Add the original Diagnosis without characters\n",
        "    concated_diag = [diag_1, diag_2, diag_3, diag_4, diag_5]\n",
        "\n",
        "    for cd in concated_diag:\n",
        "      cdf = f'\"{cd}\"'\n",
        "      results.append(cdf)\n",
        "\n",
        "\n",
        "    # Predefined characters\n",
        "    characters = ['?', '/', ',']\n",
        "\n",
        "    # Concatenate required argument with predefined characters\n",
        "    for char in characters:\n",
        "        result = f'\"{diagnosis_1}{char}\"'\n",
        "        results.append(result)\n",
        "\n",
        "    for char in characters:\n",
        "        result = f'\"{char}{diagnosis_1}\"'\n",
        "        results.append(result)\n",
        "\n",
        "    for char in characters:\n",
        "        result = f'\"{char}{diagnosis_1}{char}\"'\n",
        "        results.append(result)\n",
        "\n",
        "    # Concatenate optional arguments with predefined characters if provided\n",
        "\n",
        "    if diagnosis_2 is not None:\n",
        "        for char in characters:\n",
        "            result = f'\"{diagnosis_2}{char}\"'\n",
        "            results.append(result)\n",
        "\n",
        "    if diagnosis_2 is not None:\n",
        "        for char in characters:\n",
        "            result = f'\"{char}{diagnosis_2}\"'\n",
        "            results.append(result)\n",
        "\n",
        "    if diagnosis_2 is not None:\n",
        "        for char in characters:\n",
        "            result = f'\"{char}{diagnosis_2}{char}\"'\n",
        "            results.append(result)\n",
        "\n",
        "    if diagnosis_3 is not None:\n",
        "        for char in characters:\n",
        "            result = f'\"{diagnosis_3}{char}\"'\n",
        "            results.append(result)\n",
        "\n",
        "    if diagnosis_3 is not None:\n",
        "        for char in characters:\n",
        "            result = f'\"{char}{diagnosis_3}\"'\n",
        "            results.append(result)\n",
        "\n",
        "    if diagnosis_3 is not None:\n",
        "        for char in characters:\n",
        "            result = f'\"{char}{diagnosis_3}{char}\"'\n",
        "            results.append(result)\n",
        "\n",
        "    if diagnosis_4 is not None:\n",
        "        for char in characters:\n",
        "            result = f'\"{diagnosis_4}{char}\"'\n",
        "            results.append(result)\n",
        "\n",
        "    if diagnosis_4 is not None:\n",
        "        for char in characters:\n",
        "            result = f'\"{char}{diagnosis_4}\"'\n",
        "            results.append(result)\n",
        "\n",
        "    if diagnosis_4 is not None:\n",
        "        for char in characters:\n",
        "            result = f'\"{char}{diagnosis_4}{char}\"'\n",
        "            results.append(result)\n",
        "\n",
        "\n",
        "    if diagnosis_5 is not None:\n",
        "        for char in characters:\n",
        "            result = f'\"{diagnosis_5}{char}\"'\n",
        "            results.append(result)\n",
        "\n",
        "    if diagnosis_5 is not None:\n",
        "        for char in characters:\n",
        "            result = f'\"{char}{diagnosis_5}\"'\n",
        "            results.append(result)\n",
        "\n",
        "    if diagnosis_5 is not None:\n",
        "        for char in characters:\n",
        "            result = f'\"{char}{diagnosis_5}{char}\"'\n",
        "            results.append(result)\n",
        "\n",
        "    return results\n",
        "\n",
        "# Example usage\n",
        "diag_1 = \"Menorrhagia\"\n",
        "diag_2 = \"Menorhagia\"\n",
        "diag_3 = None\n",
        "diag_4 = None\n",
        "diag_5 = None\n",
        "\n",
        "\n",
        "\n",
        "#required = 'important'\n",
        "#optional1 = 'optional1'\n",
        "#optional2 = 'optional2'\n",
        "\n",
        "result_list = process_diagnosis(diag_1, diagnosis_2=diag_2, diagnosis_3=diag_3, diagnosis_4=diag_4, diagnosis_5=diag_5)\n",
        "print(result_list)"
      ]
    },
    {
      "cell_type": "code",
      "source": [
        "# Open a file in write mode\n",
        "with open('output.txt', 'w') as file:\n",
        "    # Write the output to the file\n",
        "    file.write(str(result_list))"
      ],
      "metadata": {
        "id": "d0gtzqRZ2w3f"
      },
      "execution_count": null,
      "outputs": []
    },
    {
      "cell_type": "code",
      "source": [
        "\n",
        "# Open a file in write mode\n",
        "with open('output.csv', 'w') as file:\n",
        "    # Write the output to the file\n",
        "    file.write(str(result_list))\n"
      ],
      "metadata": {
        "id": "9B8OgidfzR0N"
      },
      "execution_count": null,
      "outputs": []
    },
    {
      "cell_type": "code",
      "source": [],
      "metadata": {
        "id": "579ZHDM0rk2B"
      },
      "execution_count": null,
      "outputs": []
    },
    {
      "cell_type": "code",
      "source": [
        "from docx import Document\n",
        "\n",
        "# Create a new Word document\n",
        "doc = Document()\n",
        "\n",
        "# Add content to the document\n",
        "doc.add_paragraph(result_list)\n",
        "\n",
        "# Save the document\n",
        "doc.save(\"output.docx\")\n"
      ],
      "metadata": {
        "id": "IusWq-bV0re2"
      },
      "execution_count": null,
      "outputs": []
    }
  ]
}